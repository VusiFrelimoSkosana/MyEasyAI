{
 "cells": [
  {
   "cell_type": "markdown",
   "id": "f4952527",
   "metadata": {},
   "source": [
    "**Introduction**\n",
    "\n",
    "Salary prediction using linear regression based on experience is important in various contexts, particularly in HR and workforce planning, for several reasons:\n",
    "\n",
    "Linear regression models can help organizations make informed decisions about salary offers to candidates based on their experience, ensuring competitive yet cost-effective compensation packages; It promotes fairness in compensation by basing salary offers on objective factors like experience, reducing the likelihood of wage disparities; Accurate salary predictions can help prevent underpaying or overpaying employees, which can contribute to higher job satisfaction and lower turnover rates; Businesses can budget effectively for their workforce, allocating resources efficiently based on expected salary costs; Competitive salary predictions can attract top talent by offering competitive compensation packages aligned with market standards; Performance Evaluation: Linear regression can be used to assess whether an employee's salary aligns with their experience and performance, aiding in performance reviews and merit-based raises; Compliance: Ensuring that compensation is aligned with experience and performance helps organizations comply with labor laws and regulations related to fair pay; Using machine learning for salary prediction allows HR departments to adopt data-driven approaches to compensation management, leading to more efficient and equitable processes.\n",
    "\n",
    "This machine learning mini-project contains the code which predicts salary based on experience using linear regression model:"
   ]
  },
  {
   "cell_type": "code",
   "execution_count": 1,
   "id": "a2d1af8e",
   "metadata": {},
   "outputs": [],
   "source": [
    "import pandas as pd\n",
    "import numpy as np\n",
    "from sklearn.linear_model import LinearRegression\n",
    "from sklearn.model_selection import train_test_split\n",
    "from sklearn.metrics import r2_score\n",
    "from sklearn.model_selection import GridSearchCV\n",
    "import matplotlib.pyplot as plt"
   ]
  },
  {
   "cell_type": "markdown",
   "id": "8083faa6",
   "metadata": {},
   "source": [
    "**1. Data Understanding: loading and exploring dataset**"
   ]
  },
  {
   "cell_type": "code",
   "execution_count": 2,
   "id": "7032f895",
   "metadata": {},
   "outputs": [
    {
     "data": {
      "text/html": [
       "<div>\n",
       "<style scoped>\n",
       "    .dataframe tbody tr th:only-of-type {\n",
       "        vertical-align: middle;\n",
       "    }\n",
       "\n",
       "    .dataframe tbody tr th {\n",
       "        vertical-align: top;\n",
       "    }\n",
       "\n",
       "    .dataframe thead th {\n",
       "        text-align: right;\n",
       "    }\n",
       "</style>\n",
       "<table border=\"1\" class=\"dataframe\">\n",
       "  <thead>\n",
       "    <tr style=\"text-align: right;\">\n",
       "      <th></th>\n",
       "      <th>YearsExperience</th>\n",
       "      <th>Salary</th>\n",
       "    </tr>\n",
       "  </thead>\n",
       "  <tbody>\n",
       "    <tr>\n",
       "      <th>0</th>\n",
       "      <td>1.1</td>\n",
       "      <td>39343</td>\n",
       "    </tr>\n",
       "    <tr>\n",
       "      <th>1</th>\n",
       "      <td>1.3</td>\n",
       "      <td>46205</td>\n",
       "    </tr>\n",
       "    <tr>\n",
       "      <th>2</th>\n",
       "      <td>1.5</td>\n",
       "      <td>37731</td>\n",
       "    </tr>\n",
       "    <tr>\n",
       "      <th>3</th>\n",
       "      <td>2.0</td>\n",
       "      <td>43525</td>\n",
       "    </tr>\n",
       "    <tr>\n",
       "      <th>4</th>\n",
       "      <td>2.2</td>\n",
       "      <td>39891</td>\n",
       "    </tr>\n",
       "  </tbody>\n",
       "</table>\n",
       "</div>"
      ],
      "text/plain": [
       "   YearsExperience  Salary\n",
       "0              1.1   39343\n",
       "1              1.3   46205\n",
       "2              1.5   37731\n",
       "3              2.0   43525\n",
       "4              2.2   39891"
      ]
     },
     "metadata": {},
     "output_type": "display_data"
    },
    {
     "name": "stdout",
     "output_type": "stream",
     "text": [
      "**The shape or dimension of the data is as follows:** \n",
      " (35, 2) \n",
      "\n",
      "**checking missing values from each column:** \n",
      " YearsExperience    0\n",
      "Salary             0\n",
      "dtype: int64\n",
      "**checking NaN values from each column:** \n",
      " YearsExperience    0\n",
      "Salary             0\n",
      "dtype: int64\n"
     ]
    }
   ],
   "source": [
    "df=pd.read_csv('Salary.csv')\n",
    "display(df.head())\n",
    "\n",
    "print('**The shape or dimension of the data is as follows:** \\n',df.shape,'\\n') #Checking the shape of the data\n",
    "print('**checking missing values from each column:** \\n',df.isnull().sum())  #chacking missing values\n",
    "print('**checking NaN values from each column:** \\n',df.isna().sum()) #chacking NaN values"
   ]
  },
  {
   "cell_type": "markdown",
   "id": "cd23387b",
   "metadata": {},
   "source": [
    "**2. Model Training: Split the dataset into training and testing sets**"
   ]
  },
  {
   "cell_type": "code",
   "execution_count": 3,
   "id": "060b56e5",
   "metadata": {},
   "outputs": [
    {
     "data": {
      "image/png": "[encoded data removed]",
      "text/plain": [
       "<Figure size 432x288 with 1 Axes>"
      ]
     },
     "metadata": {
      "needs_background": "light"
     },
     "output_type": "display_data"
    }
   ],
   "source": [
    "\n",
    "X= np.array(df['YearsExperience']).reshape(-1,1)\n",
    "y=np.array(df['Salary'])\n",
    "\n",
    "reg= LinearRegression()\n",
    "X_train, X_test, y_train, y_test= train_test_split(X,y, test_size=0.5, random_state=42)\n",
    "reg.fit(X_train,y_train)\n",
    "val_pred=reg.predict(X_train) #Predicted training values\n",
    "\n",
    "#plotting\n",
    "plt.scatter(X_train,y_train, label='Training dataset')\n",
    "plt.xlabel(\"Years of Experience\")\n",
    "plt.ylabel('Salary')\n",
    "plt.title('Salary vs Years of Experience')\n",
    "plt.plot(X_train,val_pred, color='red', label='fit-line of training dataset')\n",
    "plt.legend()\n",
    "plt.show()"
   ]
  },
  {
   "cell_type": "markdown",
   "id": "ac71207b",
   "metadata": {},
   "source": [
    "**3. Model Evaluation: Evaluating the performance of the trained model using appropriate evaluation metrics, i.e R^2**"
   ]
  },
  {
   "cell_type": "code",
   "execution_count": 4,
   "id": "080fb0c6",
   "metadata": {},
   "outputs": [
    {
     "name": "stdout",
     "output_type": "stream",
     "text": [
      "The R^2 is:  0.9483192462559723\n"
     ]
    }
   ],
   "source": [
    "y_pred= reg.predict(X_test) #Predicted test values\n",
    "\n",
    "score_value= r2_score(y_test,y_pred) #it's in 2D array\n",
    "print('The R^2 is: ', score_value)"
   ]
  },
  {
   "cell_type": "markdown",
   "id": "7686b172",
   "metadata": {},
   "source": [
    "**4. Model Optimization: Fine tune the model by adjusting hyperparameters to enhance its predictive performance**"
   ]
  },
  {
   "cell_type": "code",
   "execution_count": 5,
   "id": "efd53aa7",
   "metadata": {},
   "outputs": [
    {
     "name": "stdout",
     "output_type": "stream",
     "text": [
      "The best R^2 score is:  0.9483192462559722\n"
     ]
    }
   ],
   "source": [
    "#fine tuning hyperparameters\n",
    "grid_params= {'fit_intercept':[True,False],'normalize':[True,False]}\n",
    "grid_search= GridSearchCV(estimator=reg, param_grid=grid_params, cv=5)\n",
    "grid_search.fit(X_train,y_train)\n",
    "\n",
    "best_model=grid_search.best_estimator_\n",
    "best_y_pred= best_model.predict(X_test)\n",
    "\n",
    "best_r2_score_value= r2_score(y_test, best_y_pred)\n",
    "\n",
    "print('The best R^2 score is: ',best_r2_score_value)"
   ]
  },
  {
   "cell_type": "markdown",
   "id": "a2318558",
   "metadata": {},
   "source": [
    "**5. Model Deployment: Deploying the optimised model to make predictions on new, unseen data.**"
   ]
  },
  {
   "cell_type": "code",
   "execution_count": 6,
   "id": "c4dbd453",
   "metadata": {},
   "outputs": [
    {
     "data": {
      "image/png": "[encoded data removed]",
      "text/plain": [
       "<Figure size 432x288 with 1 Axes>"
      ]
     },
     "metadata": {
      "needs_background": "light"
     },
     "output_type": "display_data"
    }
   ],
   "source": [
    "#We create a list of unseen data, i.e number of years\n",
    "X_unseen= np.array([12, 12.7, 13.8, 14, 14.5, 15.1,16.3,17.3, 18, 19.5, 20,20.3,20.8]).reshape(-1,1)\n",
    "new_y_pred=best_model.predict(X_unseen)\n",
    "\n",
    "#predict the new unseen data on a new model (best model implemented)\n",
    "X_train, X_test, y_train, y_test= train_test_split(X,y, test_size=0.5, random_state=42)\n",
    "best_model.fit(X_train,y_train)\n",
    "val_pred=best_model.predict(X_train) #Predicted training values\n",
    "\n",
    "#plotting the unseen data points\n",
    "plt.scatter(X_train,y_train, label='training dataset')\n",
    "plt.xlabel(\"Years of Experience\")\n",
    "plt.ylabel('Salary')\n",
    "plt.title('Salary vs Years of Experience')\n",
    "plt.plot(X_train,val_pred, color='red', label='fit-line of training dataset')\n",
    "plt.scatter(X_unseen,new_y_pred, color='green', label='unseen dataset prediction')\n",
    "plt.legend()\n",
    "plt.show()"
   ]
  },
  {
   "cell_type": "code",
   "execution_count": null,
   "id": "8b5d5af0",
   "metadata": {},
   "outputs": [],
   "source": []
  }
 ],
 "metadata": {
  "kernelspec": {
   "display_name": "Python 3",
   "language": "python",
   "name": "python3"
  },
  "language_info": {
   "codemirror_mode": {
    "name": "ipython",
    "version": 3
   },
   "file_extension": ".py",
   "mimetype": "text/x-python",
   "name": "python",
   "nbconvert_exporter": "python",
   "pygments_lexer": "ipython3",
   "version": "3.8.8"
  }
 },
 "nbformat": 4,
 "nbformat_minor": 5
}
